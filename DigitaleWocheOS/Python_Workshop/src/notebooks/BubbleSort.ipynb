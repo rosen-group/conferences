{
 "cells": [
  {
   "cell_type": "code",
   "execution_count": null,
   "id": "f1ce9072-22b3-49c8-8c24-f1e3aa22c583",
   "metadata": {},
   "outputs": [],
   "source": [
    "class Person:\n",
    "    def __init__(self, first_name, last_name, age):\n",
    "        self.first_name = first_name\n",
    "        self.last_name = last_name\n",
    "        self.age = age\n",
    "    \n",
    "    def geburtstag(self):\n",
    "        self.age += 1\n",
    "        \n",
    "    def __str__(self):\n",
    "        return f\"{self.first_name} {self.last_name}, {self.age} Jahre alt\""
   ]
  },
  {
   "cell_type": "code",
   "execution_count": null,
   "id": "5c5f70f5-1ad2-4940-ba1b-3ae885d76ed5",
   "metadata": {},
   "outputs": [],
   "source": [
    "def print_personen_liste(personen):\n",
    "    for person in personen: \n",
    "        print(person.__str__(), end=', ')\n",
    "    print()"
   ]
  },
  {
   "cell_type": "code",
   "execution_count": null,
   "id": "ec8acfb1-1f2e-46df-a37d-4bce48eda08c",
   "metadata": {},
   "outputs": [],
   "source": [
    "personen = [\n",
    "    Person(\"Alina\", \"Spitz\", 34),\n",
    "    Person(\"Isabell\", \"Huffmann\", 23),\n",
    "    Person(\"Jan\", \"Glöckner\", 29),\n",
    "    Person(\"John\", \"Schmidt\", 19)\n",
    "]"
   ]
  },
  {
   "cell_type": "markdown",
   "id": "1686ac99-ede8-44fe-bf33-aaa2601e23bf",
   "metadata": {},
   "source": [
    "![Bubble Sort](bubble-sort.png)"
   ]
  },
  {
   "cell_type": "code",
   "execution_count": null,
   "id": "84c4467b-9f6f-4a01-926a-5e4d3955b029",
   "metadata": {},
   "outputs": [],
   "source": [
    "def bubble_sort(personen):\n",
    "    pass"
   ]
  },
  {
   "cell_type": "code",
   "execution_count": null,
   "id": "a5a57635-b5a5-42e7-81fc-f96ed53d5e6b",
   "metadata": {},
   "outputs": [],
   "source": [
    "print_personen_liste(personen)\n",
    "\n",
    "bubble_sort(personen)\n",
    "\n",
    "print_personen_liste(personen)"
   ]
  }
 ],
 "metadata": {
  "kernelspec": {
   "display_name": "python3.10",
   "language": "python",
   "name": "python3.10"
  },
  "language_info": {
   "codemirror_mode": {
    "name": "ipython",
    "version": 3
   },
   "file_extension": ".py",
   "mimetype": "text/x-python",
   "name": "python",
   "nbconvert_exporter": "python",
   "pygments_lexer": "ipython3",
   "version": "3.10.12"
  }
 },
 "nbformat": 4,
 "nbformat_minor": 5
}
