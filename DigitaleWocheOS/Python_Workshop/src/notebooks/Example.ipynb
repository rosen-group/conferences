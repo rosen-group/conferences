{
 "cells": [
  {
   "cell_type": "code",
   "execution_count": null,
   "metadata": {},
   "outputs": [],
   "source": [
    "a = 1 # int\n",
    "\n",
    "c = 3.14 # float\n",
    "\n",
    "b = True # bool\n",
    "\n",
    "d = \"Hello\" # str\n",
    "\n",
    "e = [1, 2, 3] # list\n",
    "\n",
    "f = (\"Hello\", \"World\") # tuple\n",
    "\n",
    "g = { \"Name\": \"Steve\", \"Alter\": \"19\", \"Addresse\": \"Musterstraße 123\" } # dict"
   ]
  },
  {
   "cell_type": "code",
   "execution_count": null,
   "metadata": {},
   "outputs": [],
   "source": [
    "print(\"Hello, World!\")\n",
    "# => Hello, World!\n",
    "\n",
    "a = 34\n",
    "print(\"Der Wert von 'a' ist:\", a)\n",
    "# => Der Wert von 'a' ist: 34\n",
    "\n",
    "name = \"James\"\n",
    "print (f\"Der Name ist {name}\")\n",
    "# => Der Name ist James"
   ]
  },
  {
   "cell_type": "code",
   "execution_count": null,
   "metadata": {},
   "outputs": [],
   "source": [
    "a + b # Addition\n",
    "a - b # Subtraktion\n",
    "\n",
    "a * b # Multiplikation\n",
    "a / b # Division\n",
    "a // b # Division\n",
    "a % b # Rest\n",
    "\n",
    "a ** b # Exponent\n",
    "\n",
    "a or b # Oder\n",
    "a and b # Und\n",
    "not a # Nicht\n",
    "\n",
    "a > b # Größer\n",
    "a >= b # Größer oder Gleich\n",
    "a < b # Kleiner\n",
    "a <= b # Kleiner oder Gleich\n",
    "a == b # Gleich\n",
    "a != b # Ungleich"
   ]
  },
  {
   "cell_type": "code",
   "execution_count": null,
   "metadata": {},
   "outputs": [],
   "source": [
    "alter = 5\n",
    "if alter >= 18:\n",
    "    print(\"Erwachsen\")\n",
    "elif (alter < 18 and alter >= 14):\n",
    "    print(\"Jugendlicher\")\n",
    "else:\n",
    "    print(\"Kind\")\n",
    "# => Kind"
   ]
  },
  {
   "cell_type": "code",
   "execution_count": null,
   "metadata": {},
   "outputs": [],
   "source": [
    "alter = 19\n",
    "status = \"Erwachsen\" if alter >= 18 else \"Kind\"\n",
    "print(\"Status:\", status)\n",
    "# => Status: Erwachsen"
   ]
  },
  {
   "cell_type": "code",
   "execution_count": null,
   "metadata": {
    "colab": {
     "base_uri": "https://localhost:8080/"
    },
    "id": "jkW8xbzc-ZIs",
    "outputId": "3cdb46b0-e536-4a5c-d4f0-5a165dbc0e62"
   },
   "outputs": [],
   "source": [
    "zaehler = 10\n",
    "while zaehler > 0:\n",
    "  print(zaehler, end=', ')\n",
    "  zaehler -= 1\n",
    "# => 10, 9, 8, 7, 6, 5, 4, 3, 2, 1, "
   ]
  },
  {
   "cell_type": "code",
   "execution_count": null,
   "metadata": {
    "colab": {
     "base_uri": "https://localhost:8080/"
    },
    "id": "LJptLSQjDWgs",
    "outputId": "2ad46891-528c-49db-b6b2-60c81e4efcdf"
   },
   "outputs": [],
   "source": [
    "namen = [\"Susanne\", \"Elisa\", \"Bert\", \"Jan\"]\n",
    "for name in namen:\n",
    "  print(name, end=', ')\n",
    "# => Susanne, Elisa, Bert, Jan,"
   ]
  },
  {
   "cell_type": "code",
   "execution_count": null,
   "metadata": {},
   "outputs": [],
   "source": [
    "zahlen = range(1, 6)\n",
    "quadratzahlen = [x**2 for x in zahlen]\n",
    "print(quadratzahlen)\n",
    "# => [1, 4, 9, 16, 25]"
   ]
  },
  {
   "cell_type": "code",
   "execution_count": null,
   "metadata": {
    "colab": {
     "base_uri": "https://localhost:8080/"
    },
    "id": "sAOYKJiFEpSZ",
    "outputId": "8f32d78f-567a-4d89-c23c-7c20735c67bf"
   },
   "outputs": [],
   "source": [
    "zahl = 8\n",
    "isPrime = True\n",
    "for i in range(2, zahl // 2):\n",
    "    if zahl % i == 0:\n",
    "        isPrime = False;\n",
    "        break\n",
    "\n",
    "print(\"Ist\", zahl, \"eine Pimzahl:\", isPrime)\n",
    "# => Ist 8 eine Pimzahl: False"
   ]
  },
  {
   "cell_type": "code",
   "execution_count": null,
   "metadata": {},
   "outputs": [],
   "source": [
    "zahlen = [3, 45, 16, 2, 5, 9, 10]\n",
    "for zahl in zahlen:\n",
    "    if zahl % 2 == 0:\n",
    "        continue\n",
    "    print(zahl, end=', ')\n",
    "# => 3, 45, 5, 9, "
   ]
  },
  {
   "cell_type": "code",
   "execution_count": null,
   "metadata": {},
   "outputs": [],
   "source": [
    "def add(a, b):\n",
    "    sum = a + b\n",
    "    return sum\n",
    "\n",
    "print(add(12, 45))\n",
    "# => 57"
   ]
  },
  {
   "cell_type": "code",
   "execution_count": null,
   "metadata": {},
   "outputs": [],
   "source": [
    "def fibonacci(n):\n",
    "    if n <= 2:\n",
    "        return 1\n",
    "    return fibonacci(n-1) + fibonacci(n-2)\n",
    "print(fibonacci(4))"
   ]
  },
  {
   "cell_type": "code",
   "execution_count": null,
   "metadata": {},
   "outputs": [],
   "source": [
    "class Person:\n",
    "    def __init__(self, first_name, last_name, age):\n",
    "        self.first_name = first_name\n",
    "        self.last_name = last_name\n",
    "        self.age = age\n",
    "\n",
    "john = Person(\"John\", \"Doe\", 37)\n",
    "print(f\"Die Person heißt {john.first_name} {john.last_name} und ist {john.age} Jahre alt\")"
   ]
  },
  {
   "cell_type": "code",
   "execution_count": null,
   "metadata": {},
   "outputs": [],
   "source": [
    "class Person:\n",
    "    def __init__(self, first_name, last_name, age):\n",
    "        self.first_name = first_name\n",
    "        self.last_name = last_name\n",
    "        self.age = age\n",
    "    \n",
    "    def geburtstag(self):\n",
    "        self.age += 1\n",
    "        \n",
    "    def __str__(self):\n",
    "        return f\"{self.first_name} {self.last_name}, {self.age} Jahre alt\"\n",
    "\n",
    "john = Person(\"John\", \"Doe\", 37)\n",
    "print(john.__str__())\n",
    "john.geburtstag()\n",
    "print(john.__str__())"
   ]
  },
  {
   "cell_type": "code",
   "execution_count": null,
   "metadata": {},
   "outputs": [],
   "source": [
    "alter = int(input(\"Bitte gib dein Alter ein:\"))\n",
    "if alter < 18:\n",
    "    print(\"Du darfst hier nicht rein!\")\n",
    "else:\n",
    "    print(\"Willkommen!\")"
   ]
  },
  {
   "cell_type": "code",
   "execution_count": null,
   "metadata": {},
   "outputs": [],
   "source": [
    "def bubble_sort(personen):\n",
    "    while(True):\n",
    "        sortiert = True\n",
    "        for i in range(0, len(personen)-1):\n",
    "            personA = personen[i]\n",
    "            personB = personen[i + 1]\n",
    "            if (personA.age > personB.age):\n",
    "                personen[i] = personB\n",
    "                personen[i + 1] = personA\n",
    "                sortiert = False\n",
    "        if sortiert:\n",
    "           break \n",
    "\n",
    "\n",
    "person1 = Person(\"John\", \"Doe\", 37)\n",
    "person2 = Person(\"Stella\", \"Musterfrau\", 19)\n",
    "person3 = Person(\"Max\", \"Müller\", 25)\n",
    "personen = [person1, person2, person3]\n",
    "for person in personen: \n",
    "    print(person.__str__(), end=',')\n",
    "print()\n",
    "\n",
    "bubble_sort(personen)\n",
    "\n",
    "for person in personen: \n",
    "    print(person.__str__(), end=',')"
   ]
  }
 ],
 "metadata": {
  "colab": {
   "provenance": []
  },
  "kernelspec": {
   "display_name": "python3.10",
   "language": "python",
   "name": "python3.10"
  },
  "language_info": {
   "codemirror_mode": {
    "name": "ipython",
    "version": 3
   },
   "file_extension": ".py",
   "mimetype": "text/x-python",
   "name": "python",
   "nbconvert_exporter": "python",
   "pygments_lexer": "ipython3",
   "version": "3.10.12"
  }
 },
 "nbformat": 4,
 "nbformat_minor": 4
}
